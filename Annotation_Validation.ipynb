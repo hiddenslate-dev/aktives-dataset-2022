{
 "cells": [
  {
   "cell_type": "code",
   "execution_count": 1,
   "metadata": {},
   "outputs": [],
   "source": [
    "import pandas as pd\n",
    "import numpy as np"
   ]
  },
  {
   "cell_type": "markdown",
   "metadata": {},
   "source": [
    "CAP_Stress = All Stress Annotations for the CatchAPet Game\n",
    "CAP_Reaction = All Reaction Annotations for the CatchAPet Game\n",
    "LEAP_Stress = All Stress Annotations for the LeapBall Game\n",
    "LEAP_Reaction = All Reaction Annotations for the LeapBall Game"
   ]
  },
  {
   "cell_type": "code",
   "execution_count": 14,
   "metadata": {},
   "outputs": [],
   "source": [
    "CAP_Stress = pd.read_csv(\"CAP_Stress.csv\")\n",
    "CAP_Reaction = pd.read_csv(\"CAP_Reaction.csv\")\n",
    "LEAP_Stress = pd.read_csv(\"LEAP_Stress.csv\")\n",
    "LEAP_Reaction = pd.read_csv(\"LEAP_Reaction.csv\")"
   ]
  },
  {
   "cell_type": "code",
   "execution_count": 15,
   "metadata": {},
   "outputs": [],
   "source": [
    "cons = [CAP_Stress,LEAP_Stress]\n",
    "STRESS = pd.concat(cons,axis=0)"
   ]
  },
  {
   "cell_type": "code",
   "execution_count": null,
   "metadata": {},
   "outputs": [],
   "source": [
    "STRESS = STRESS.reset_index(drop=True)\n",
    "STRESS = STRESS.drop(columns = STRESS.columns[0], axis=1)\n",
    "STRESS.columns = [\"Annotator1\",\"Annotator2\",\"Annotator3\"]"
   ]
  },
  {
   "cell_type": "code",
   "execution_count": 17,
   "metadata": {},
   "outputs": [],
   "source": [
    "conr = [CAP_Reaction,LEAP_Reaction]\n",
    "REACTION = pd.concat(conr,axis=0)"
   ]
  },
  {
   "cell_type": "code",
   "execution_count": 18,
   "metadata": {},
   "outputs": [],
   "source": [
    "REACTION = REACTION.reset_index(drop=True)\n",
    "REACTION = REACTION.drop(columns = REACTION.columns[0], axis=1)\n",
    "REACTION.columns = [\"Annotator1\",\"Annotator2\",\"Annotator3\"]"
   ]
  },
  {
   "cell_type": "code",
   "execution_count": 20,
   "metadata": {},
   "outputs": [],
   "source": [
    "STRESS[STRESS == 'No Stress'] = 0\n",
    "STRESS[STRESS == 'Stress'] = 1"
   ]
  },
  {
   "cell_type": "code",
   "execution_count": null,
   "metadata": {},
   "outputs": [],
   "source": [
    "Score_Stress = []\n",
    "for i in range(len(STRESS)):\n",
    "    if STRESS[\"Annotator1\"][i] == STRESS[\"Annotator2\"][i]:\n",
    "        a = 1\n",
    "    else:\n",
    "        a = 0\n",
    "    Score_Stress.append(a)\n",
    "Score_Stress"
   ]
  },
  {
   "cell_type": "code",
   "execution_count": 24,
   "metadata": {},
   "outputs": [
    {
     "data": {
      "text/plain": [
       "2065"
      ]
     },
     "execution_count": 24,
     "metadata": {},
     "output_type": "execute_result"
    }
   ],
   "source": [
    "len(Score_Stress)"
   ]
  },
  {
   "cell_type": "code",
   "execution_count": 25,
   "metadata": {},
   "outputs": [
    {
     "data": {
      "text/plain": [
       "1682"
      ]
     },
     "execution_count": 25,
     "metadata": {},
     "output_type": "execute_result"
    }
   ],
   "source": [
    "sum = np.sum(Score_Stress)\n",
    "sum"
   ]
  },
  {
   "cell_type": "code",
   "execution_count": 26,
   "metadata": {},
   "outputs": [
    {
     "data": {
      "text/plain": [
       "81.45278450363196"
      ]
     },
     "execution_count": 26,
     "metadata": {},
     "output_type": "execute_result"
    }
   ],
   "source": [
    "Stress_A1_A2 = (sum/len(Score_Stress))*100\n",
    "Stress_A1_A2"
   ]
  },
  {
   "cell_type": "code",
   "execution_count": null,
   "metadata": {},
   "outputs": [],
   "source": [
    "Score_Stress = []\n",
    "for i in range(len(STRESS)):\n",
    "    if STRESS[\"Annotator1\"][i] == STRESS[\"Annotator3\"][i]:\n",
    "        a = 1\n",
    "    else:\n",
    "        a = 0\n",
    "    Score_Stress.append(a)\n",
    "Score_Stress"
   ]
  },
  {
   "cell_type": "code",
   "execution_count": 28,
   "metadata": {},
   "outputs": [
    {
     "data": {
      "text/plain": [
       "1595"
      ]
     },
     "execution_count": 28,
     "metadata": {},
     "output_type": "execute_result"
    }
   ],
   "source": [
    "sum = np.sum(Score_Stress)\n",
    "sum"
   ]
  },
  {
   "cell_type": "code",
   "execution_count": 29,
   "metadata": {},
   "outputs": [
    {
     "data": {
      "text/plain": [
       "77.23970944309927"
      ]
     },
     "execution_count": 29,
     "metadata": {},
     "output_type": "execute_result"
    }
   ],
   "source": [
    "Stress_A1_A3 = (sum/len(Score_Stress))*100\n",
    "Stress_A1_A3"
   ]
  },
  {
   "cell_type": "code",
   "execution_count": null,
   "metadata": {},
   "outputs": [],
   "source": [
    "Score_Stress = []\n",
    "for i in range(len(STRESS)):\n",
    "    if STRESS[\"Annotator2\"][i] == STRESS[\"Annotator3\"][i]:\n",
    "        a = 1\n",
    "    else:\n",
    "        a = 0\n",
    "    Score_Stress.append(a)\n",
    "Score_Stress"
   ]
  },
  {
   "cell_type": "code",
   "execution_count": 31,
   "metadata": {},
   "outputs": [
    {
     "data": {
      "text/plain": [
       "1604"
      ]
     },
     "execution_count": 31,
     "metadata": {},
     "output_type": "execute_result"
    }
   ],
   "source": [
    "sum = np.sum(Score_Stress)\n",
    "sum"
   ]
  },
  {
   "cell_type": "code",
   "execution_count": 32,
   "metadata": {},
   "outputs": [
    {
     "data": {
      "text/plain": [
       "77.67554479418887"
      ]
     },
     "execution_count": 32,
     "metadata": {},
     "output_type": "execute_result"
    }
   ],
   "source": [
    "Stress_A2_A3 = (sum/len(Score_Stress))*100\n",
    "Stress_A2_A3"
   ]
  },
  {
   "cell_type": "code",
   "execution_count": null,
   "metadata": {},
   "outputs": [],
   "source": [
    "Score_Stress = []\n",
    "for i in range(len(STRESS)):\n",
    "    if STRESS[\"Annotator1\"][i] == STRESS[\"Annotator2\"][i] == STRESS[\"Annotator3\"][i]:\n",
    "        a = 1\n",
    "    else:\n",
    "        a = 0\n",
    "    Score_Stress.append(a)\n",
    "Score_Stress"
   ]
  },
  {
   "cell_type": "code",
   "execution_count": 35,
   "metadata": {},
   "outputs": [
    {
     "data": {
      "text/plain": [
       "1408"
      ]
     },
     "execution_count": 35,
     "metadata": {},
     "output_type": "execute_result"
    }
   ],
   "source": [
    "sum = np.sum(Score_Stress)\n",
    "sum"
   ]
  },
  {
   "cell_type": "code",
   "execution_count": 36,
   "metadata": {},
   "outputs": [
    {
     "data": {
      "text/plain": [
       "68.18401937046005"
      ]
     },
     "execution_count": 36,
     "metadata": {},
     "output_type": "execute_result"
    }
   ],
   "source": [
    "Stress_All = (sum/len(Score_Stress))*100\n",
    "Stress_All"
   ]
  },
  {
   "cell_type": "code",
   "execution_count": null,
   "metadata": {},
   "outputs": [],
   "source": [
    "Score_Reaction = []\n",
    "for i in range(len(REACTION)):\n",
    "    if REACTION[\"Annotator1\"][i] == REACTION[\"Annotator2\"][i]:\n",
    "        a = 1\n",
    "    else:\n",
    "        a = 0\n",
    "    Score_Reaction.append(a)\n",
    "Score_Reaction"
   ]
  },
  {
   "cell_type": "code",
   "execution_count": 38,
   "metadata": {},
   "outputs": [
    {
     "data": {
      "text/plain": [
       "1719"
      ]
     },
     "execution_count": 38,
     "metadata": {},
     "output_type": "execute_result"
    }
   ],
   "source": [
    "sum = np.sum(Score_Reaction)\n",
    "sum"
   ]
  },
  {
   "cell_type": "code",
   "execution_count": 39,
   "metadata": {},
   "outputs": [
    {
     "data": {
      "text/plain": [
       "83.24455205811138"
      ]
     },
     "execution_count": 39,
     "metadata": {},
     "output_type": "execute_result"
    }
   ],
   "source": [
    "Reaction_A1_A2 = (sum/len(Score_Reaction))*100\n",
    "Reaction_A1_A2"
   ]
  },
  {
   "cell_type": "code",
   "execution_count": null,
   "metadata": {},
   "outputs": [],
   "source": [
    "Score_Reaction = []\n",
    "for i in range(len(REACTION)):\n",
    "    if REACTION[\"Annotator1\"][i] == REACTION[\"Annotator3\"][i]:\n",
    "        a = 1\n",
    "    else:\n",
    "        a = 0\n",
    "    Score_Reaction.append(a)\n",
    "Score_Reaction"
   ]
  },
  {
   "cell_type": "code",
   "execution_count": 41,
   "metadata": {},
   "outputs": [
    {
     "data": {
      "text/plain": [
       "1435"
      ]
     },
     "execution_count": 41,
     "metadata": {},
     "output_type": "execute_result"
    }
   ],
   "source": [
    "sum = np.sum(Score_Reaction)\n",
    "sum"
   ]
  },
  {
   "cell_type": "code",
   "execution_count": 43,
   "metadata": {},
   "outputs": [
    {
     "data": {
      "text/plain": [
       "69.49152542372882"
      ]
     },
     "execution_count": 43,
     "metadata": {},
     "output_type": "execute_result"
    }
   ],
   "source": [
    "Reaction_A1_A3 = (sum/len(Score_Reaction))*100\n",
    "Reaction_A1_A3"
   ]
  },
  {
   "cell_type": "code",
   "execution_count": null,
   "metadata": {},
   "outputs": [],
   "source": [
    "Score_Reaction = []\n",
    "for i in range(len(REACTION)):\n",
    "    if REACTION[\"Annotator2\"][i] == REACTION[\"Annotator3\"][i]:\n",
    "        a = 1\n",
    "    else:\n",
    "        a = 0\n",
    "    Score_Reaction.append(a)\n",
    "Score_Reaction"
   ]
  },
  {
   "cell_type": "code",
   "execution_count": 45,
   "metadata": {},
   "outputs": [
    {
     "data": {
      "text/plain": [
       "1519"
      ]
     },
     "execution_count": 45,
     "metadata": {},
     "output_type": "execute_result"
    }
   ],
   "source": [
    "sum = np.sum(Score_Reaction)\n",
    "sum"
   ]
  },
  {
   "cell_type": "code",
   "execution_count": 46,
   "metadata": {},
   "outputs": [
    {
     "data": {
      "text/plain": [
       "73.5593220338983"
      ]
     },
     "execution_count": 46,
     "metadata": {},
     "output_type": "execute_result"
    }
   ],
   "source": [
    "Reaction_A2_A3 = (sum/len(Score_Reaction))*100\n",
    "Reaction_A2_A3"
   ]
  },
  {
   "cell_type": "code",
   "execution_count": null,
   "metadata": {},
   "outputs": [],
   "source": [
    "Score_Reaction = []\n",
    "for i in range(len(REACTION)):\n",
    "    if REACTION[\"Annotator1\"][i] == REACTION[\"Annotator2\"][i] == REACTION[\"Annotator3\"][i]:\n",
    "        a = 1\n",
    "    else:\n",
    "        a = 0\n",
    "    Score_Reaction.append(a)\n",
    "Score_Reaction"
   ]
  },
  {
   "cell_type": "code",
   "execution_count": 49,
   "metadata": {},
   "outputs": [
    {
     "data": {
      "text/plain": [
       "1309"
      ]
     },
     "execution_count": 49,
     "metadata": {},
     "output_type": "execute_result"
    }
   ],
   "source": [
    "sum = np.sum(Score_Reaction)\n",
    "sum"
   ]
  },
  {
   "cell_type": "code",
   "execution_count": 50,
   "metadata": {},
   "outputs": [
    {
     "data": {
      "text/plain": [
       "63.389830508474574"
      ]
     },
     "execution_count": 50,
     "metadata": {},
     "output_type": "execute_result"
    }
   ],
   "source": [
    "Reaction_All = (sum/len(Score_Reaction))*100\n",
    "Reaction_All"
   ]
  }
 ],
 "metadata": {
  "kernelspec": {
   "display_name": "Python 3.9.13 64-bit (windows store)",
   "language": "python",
   "name": "python3"
  },
  "language_info": {
   "codemirror_mode": {
    "name": "ipython",
    "version": 3
   },
   "file_extension": ".py",
   "mimetype": "text/x-python",
   "name": "python",
   "nbconvert_exporter": "python",
   "pygments_lexer": "ipython3",
   "version": "3.9.13"
  },
  "orig_nbformat": 4,
  "vscode": {
   "interpreter": {
    "hash": "9f5f6c50d4b773fd401d31d3ca3c163d3006881028fcc05c9ea267ec8b2bad18"
   }
  }
 },
 "nbformat": 4,
 "nbformat_minor": 2
}
