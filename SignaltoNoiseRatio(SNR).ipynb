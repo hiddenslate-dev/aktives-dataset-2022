{
 "cells": [
  {
   "cell_type": "code",
   "execution_count": 58,
   "metadata": {},
   "outputs": [],
   "source": [
    "import numpy as np\n",
    "import os\n",
    "import scipy.stats\n",
    "import pandas as pd\n",
    "import matplotlib.pyplot as plt\n",
    "import statsmodels.api as sm\n",
    "import scipy.signal"
   ]
  },
  {
   "cell_type": "code",
   "execution_count": 59,
   "metadata": {},
   "outputs": [
    {
     "name": "stdout",
     "output_type": "stream",
     "text": [
      "40\n"
     ]
    }
   ],
   "source": [
    "#Folder Names\n",
    "Name=[]\n",
    "for file in os.listdir('C:/Users/...'): \n",
    "    Name+=[file]\n",
    "Name = Name[3:]\n",
    "print(len(Name))"
   ]
  },
  {
   "cell_type": "code",
   "execution_count": 60,
   "metadata": {},
   "outputs": [],
   "source": [
    "#Loading Data\n",
    "BVP=[]\n",
    "EDA=[]\n",
    "ST=[]\n",
    "for name in Name:\n",
    "    data = pd.read_csv(name, sep=\" \", header=None, names=[\"features\",\"time\", \"values\"],on_bad_lines=\"skip\")\n",
    "    data.drop(data[data[\"features\"].str.contains(\"R\")].index,inplace = True)\n",
    "    df = data.copy()\n",
    "    df['time'] = data['time'].str.replace(',', '.')\n",
    "    df['values'] = data['values'].str.replace(',', '.')\n",
    "    df['time'] = pd.to_datetime(df['time'], unit='s')\n",
    "    dt = df[df.features.isin(['E4_Bvp', 'E4_Temperature', 'E4_Gsr'])]\n",
    "    dt = dt.sort_values(by = 'time',ascending = True)\n",
    "    dt = dt.set_index('time')\n",
    "    dt[\"values\"] = dt[\"values\"].apply(pd.to_numeric)\n",
    "    gsr = dt[(dt[\"features\"] == \"E4_Gsr\")]\n",
    "    bvp = dt[(dt[\"features\"] == \"E4_Bvp\")]\n",
    "    st = dt[(dt[\"features\"] == \"E4_Temperature\")]\n",
    "    gsr = gsr[\"values\"]\n",
    "    gsr = np.array(gsr)\n",
    "    bvp = bvp[\"values\"]\n",
    "    bvp = np.array(bvp)\n",
    "    st = st[\"values\"]\n",
    "    st = np.array(st)\n",
    "    BVP.append(bvp)\n",
    "    EDA.append(gsr)\n",
    "    ST.append(st)"
   ]
  },
  {
   "cell_type": "code",
   "execution_count": 61,
   "metadata": {},
   "outputs": [],
   "source": [
    "\n",
    "import numpy as np\n",
    "import os\n",
    "import pandas as pd\n",
    "import scipy.interpolate\n",
    "import scipy.signal\n",
    "\n",
    "\n",
    "def get_snr(signal):\n",
    "    #df = pd.read_csv(csv_path, skiprows=11)\n",
    "    sn = signal\n",
    "\n",
    "    acorrsn = scipy.signal.correlate(sn, sn, 'full')\n",
    "\n",
    "    mu = np.mean(sn)\n",
    "\n",
    "    n0 = len(sn)\n",
    "    offset = 2\n",
    "\n",
    "    x = list(range(n0 - offset - 1, n0 + offset, 1))\n",
    "    y = list(acorrsn[x])\n",
    "\n",
    "    x0 = x.pop(offset)\n",
    "    y0 = y.pop(offset)\n",
    "\n",
    "    # interpolate by polynomial\n",
    "    f_p2 = np.polyfit(x, y, 2)\n",
    "    y0_int = np.polyval(f_p2, x0)\n",
    "\n",
    "    snr_est = 10 * np.log10((y0_int - mu ** 2) / (y0 - y0_int))\n",
    "\n",
    "    return snr_est"
   ]
  },
  {
   "cell_type": "code",
   "execution_count": 63,
   "metadata": {},
   "outputs": [
    {
     "name": "stdout",
     "output_type": "stream",
     "text": [
      "[31.11326137102283, 32.79869968283161, 32.3009542449361, 31.318278383869572, 33.006452482914575, 33.65970342934538, 31.13463538366564, 31.595981582779622, 31.458789978028896, 31.82775891918757, 34.754327930494554, 34.28188893980757, 29.810668377078255, 30.515199554366255, 37.05918808983392, 35.529575759623604, 32.84332017622657, 31.652085973042865, 32.32062031237221, 32.568394377396814, 30.65417704975223, 31.327969202462306, 29.56260272929718, 30.280376409402745, 29.7625505582355, 30.897504745623753, 35.22012727792074, 34.51198098255895, 31.968792528987255, 36.28020279277595, 31.58491997480963, 31.018339425205404, 34.30662832429159, 34.06541973577788, 37.48484133554455, 35.83464596270994, 33.76020260724228, 35.13297731837263, 32.99423681963087, 32.89122587018768]\n"
     ]
    }
   ],
   "source": [
    "BVP_SNR = []\n",
    "for i in range(len(Name)):\n",
    "    bvpnp = np.array(BVP[i])\n",
    "    bvpsnr = get_snr(bvpnp)\n",
    "    BVP_SNR.append(bvpsnr)\n",
    "print(BVP_SNR)"
   ]
  },
  {
   "cell_type": "code",
   "execution_count": 11,
   "metadata": {},
   "outputs": [
    {
     "data": {
      "text/plain": [
       "32.77723766499033"
      ]
     },
     "execution_count": 11,
     "metadata": {},
     "output_type": "execute_result"
    }
   ],
   "source": [
    "np.mean(BVP_SNR)"
   ]
  },
  {
   "cell_type": "code",
   "execution_count": 12,
   "metadata": {},
   "outputs": [
    {
     "data": {
      "text/plain": [
       "2.027993993159186"
      ]
     },
     "execution_count": 12,
     "metadata": {},
     "output_type": "execute_result"
    }
   ],
   "source": [
    "np.std(BVP_SNR)"
   ]
  },
  {
   "cell_type": "code",
   "execution_count": 19,
   "metadata": {},
   "outputs": [
    {
     "data": {
      "text/plain": [
       "29.56260272929718"
      ]
     },
     "execution_count": 19,
     "metadata": {},
     "output_type": "execute_result"
    }
   ],
   "source": [
    "np.min(BVP_SNR)"
   ]
  },
  {
   "cell_type": "code",
   "execution_count": 24,
   "metadata": {},
   "outputs": [
    {
     "data": {
      "text/plain": [
       "30.861005591243025"
      ]
     },
     "execution_count": 24,
     "metadata": {},
     "output_type": "execute_result"
    }
   ],
   "source": [
    "np.quantile(BVP_SNR,0.15)"
   ]
  },
  {
   "cell_type": "code",
   "execution_count": 23,
   "metadata": {},
   "outputs": [
    {
     "data": {
      "text/plain": [
       "31.27236763381859"
      ]
     },
     "execution_count": 23,
     "metadata": {},
     "output_type": "execute_result"
    }
   ],
   "source": [
    "np.quantile(BVP_SNR,0.25)"
   ]
  },
  {
   "cell_type": "code",
   "execution_count": 25,
   "metadata": {},
   "outputs": [
    {
     "data": {
      "text/plain": [
       "32.444507344884514"
      ]
     },
     "execution_count": 25,
     "metadata": {},
     "output_type": "execute_result"
    }
   ],
   "source": [
    "np.quantile(BVP_SNR,0.50)"
   ]
  },
  {
   "cell_type": "code",
   "execution_count": 26,
   "metadata": {},
   "outputs": [
    {
     "data": {
      "text/plain": [
       "34.288073785928574"
      ]
     },
     "execution_count": 26,
     "metadata": {},
     "output_type": "execute_result"
    }
   ],
   "source": [
    "np.quantile(BVP_SNR,0.75)"
   ]
  },
  {
   "cell_type": "code",
   "execution_count": 27,
   "metadata": {},
   "outputs": [
    {
     "data": {
      "text/plain": [
       "36.31915205762885"
      ]
     },
     "execution_count": 27,
     "metadata": {},
     "output_type": "execute_result"
    }
   ],
   "source": [
    "np.quantile(BVP_SNR,0.95)"
   ]
  },
  {
   "cell_type": "code",
   "execution_count": 28,
   "metadata": {},
   "outputs": [
    {
     "data": {
      "text/plain": [
       "37.48484133554455"
      ]
     },
     "execution_count": 28,
     "metadata": {},
     "output_type": "execute_result"
    }
   ],
   "source": [
    "np.max(BVP_SNR)"
   ]
  },
  {
   "cell_type": "code",
   "execution_count": 64,
   "metadata": {},
   "outputs": [
    {
     "name": "stdout",
     "output_type": "stream",
     "text": [
      "[27.373596752357102, 32.23594214726298, 34.45397256158511, 27.661827002588186, 34.529739605446984, 34.36271407301537, 34.77449709320403, 32.013898269280205, 34.31511871867144, 33.688316448005786, 34.982364473388444, 32.70246120338146, 26.172526565884343, 33.436899362076474, 33.468956481566856, 33.93642869627288, 33.072732223266755, 31.917443913744094, 29.891326259998845, 30.438612523158785, 25.068837857870797, 30.62272864766601, 32.95927660526289, 32.90911509318753, 32.542102323522734, 31.25098048248118, 33.04171397459844, 32.98818136166865, 30.043835604401377, 30.46679668762264, 34.93658241019328, 33.835676994861416, 29.77766425923566, 34.10332969320057, 32.532401190812045, 32.79845186519915, 34.31761854262848, 37.61773582574861, 33.26099842511128, 34.147206472176556]\n"
     ]
    }
   ],
   "source": [
    "EDA_SNR = []\n",
    "for i in range(len(Name)):\n",
    "    edanp = np.array(EDA[i])\n",
    "    edasnr = get_snr(edanp)\n",
    "    EDA_SNR.append(edasnr)\n",
    "print(EDA_SNR)"
   ]
  },
  {
   "cell_type": "code",
   "execution_count": 33,
   "metadata": {},
   "outputs": [
    {
     "data": {
      "text/plain": [
       "32.366265217290135"
      ]
     },
     "execution_count": 33,
     "metadata": {},
     "output_type": "execute_result"
    }
   ],
   "source": [
    "np.mean(EDA_SNR)"
   ]
  },
  {
   "cell_type": "code",
   "execution_count": 15,
   "metadata": {},
   "outputs": [
    {
     "data": {
      "text/plain": [
       "2.52177136175902"
      ]
     },
     "execution_count": 15,
     "metadata": {},
     "output_type": "execute_result"
    }
   ],
   "source": [
    "np.std(EDA_SNR)"
   ]
  },
  {
   "cell_type": "code",
   "execution_count": 29,
   "metadata": {},
   "outputs": [
    {
     "data": {
      "text/plain": [
       "25.068837857870797"
      ]
     },
     "execution_count": 29,
     "metadata": {},
     "output_type": "execute_result"
    }
   ],
   "source": [
    "np.min(EDA_SNR)"
   ]
  },
  {
   "cell_type": "code",
   "execution_count": 30,
   "metadata": {},
   "outputs": [
    {
     "data": {
      "text/plain": [
       "30.020959202740997"
      ]
     },
     "execution_count": 30,
     "metadata": {},
     "output_type": "execute_result"
    }
   ],
   "source": [
    "np.quantile(EDA_SNR,0.15)"
   ]
  },
  {
   "cell_type": "code",
   "execution_count": 31,
   "metadata": {},
   "outputs": [
    {
     "data": {
      "text/plain": [
       "31.093917523777385"
      ]
     },
     "execution_count": 31,
     "metadata": {},
     "output_type": "execute_result"
    }
   ],
   "source": [
    "np.quantile(EDA_SNR,0.25)"
   ]
  },
  {
   "cell_type": "code",
   "execution_count": 32,
   "metadata": {},
   "outputs": [
    {
     "data": {
      "text/plain": [
       "32.973728983465776"
      ]
     },
     "execution_count": 32,
     "metadata": {},
     "output_type": "execute_result"
    }
   ],
   "source": [
    "np.quantile(EDA_SNR,0.5)"
   ]
  },
  {
   "cell_type": "code",
   "execution_count": 34,
   "metadata": {},
   "outputs": [
    {
     "data": {
      "text/plain": [
       "34.11429888794457"
      ]
     },
     "execution_count": 34,
     "metadata": {},
     "output_type": "execute_result"
    }
   ],
   "source": [
    "np.quantile(EDA_SNR,0.75)"
   ]
  },
  {
   "cell_type": "code",
   "execution_count": 35,
   "metadata": {},
   "outputs": [
    {
     "data": {
      "text/plain": [
       "34.93887151335304"
      ]
     },
     "execution_count": 35,
     "metadata": {},
     "output_type": "execute_result"
    }
   ],
   "source": [
    "np.quantile(EDA_SNR,0.95)"
   ]
  },
  {
   "cell_type": "code",
   "execution_count": 36,
   "metadata": {},
   "outputs": [
    {
     "data": {
      "text/plain": [
       "37.61773582574861"
      ]
     },
     "execution_count": 36,
     "metadata": {},
     "output_type": "execute_result"
    }
   ],
   "source": [
    "np.max(EDA_SNR)"
   ]
  },
  {
   "cell_type": "code",
   "execution_count": 65,
   "metadata": {},
   "outputs": [
    {
     "name": "stdout",
     "output_type": "stream",
     "text": [
      "[27.50216499976379, 33.13666731204303, 34.31496909090683, 27.59008937134641, 34.30890935050788, 34.29560252082061, 34.31530654570518, 31.98444884067506, 34.32878183210858, 33.390374656634854, 34.320640750715754, 34.277737236796256, 26.791326904648763, 33.106709932194946, 34.3165093569079, 34.03868493959555, 33.657389744112066, 33.49105925905232, 31.716118581136183, 34.139282432210166, 26.455910619662, 34.29580610193022, 34.311174958703596, 33.36964905547004, 34.29593735491488, 34.29091255275783, 33.54714686194403, 34.279681686347516, 31.414680969487282, 34.250377376060214, 34.36554785685463, 34.29672536807468, 32.962151634991834, 34.32105852915019, 32.60900760390686, 32.67440356207051, 34.329685255561934, 34.273422808809975, 34.3355240239902, 34.28567848631669]\n"
     ]
    }
   ],
   "source": [
    "ST_SNR = []\n",
    "for i in range(len(Name)):\n",
    "    stnp = np.array(ST[i])\n",
    "    stsnr = get_snr(stnp)\n",
    "    ST_SNR.append(stsnr)\n",
    "print(ST_SNR)"
   ]
  },
  {
   "cell_type": "code",
   "execution_count": 17,
   "metadata": {},
   "outputs": [
    {
     "data": {
      "text/plain": [
       "33.09968140812218"
      ]
     },
     "execution_count": 17,
     "metadata": {},
     "output_type": "execute_result"
    }
   ],
   "source": [
    "np.mean(ST_SNR)"
   ]
  },
  {
   "cell_type": "code",
   "execution_count": 18,
   "metadata": {},
   "outputs": [
    {
     "data": {
      "text/plain": [
       "2.1527884220189097"
      ]
     },
     "execution_count": 18,
     "metadata": {},
     "output_type": "execute_result"
    }
   ],
   "source": [
    "np.std(ST_SNR)"
   ]
  },
  {
   "cell_type": "code",
   "execution_count": 37,
   "metadata": {},
   "outputs": [
    {
     "data": {
      "text/plain": [
       "26.455910619662"
      ]
     },
     "execution_count": 37,
     "metadata": {},
     "output_type": "execute_result"
    }
   ],
   "source": [
    "np.min(ST_SNR)"
   ]
  },
  {
   "cell_type": "code",
   "execution_count": 38,
   "metadata": {},
   "outputs": [
    {
     "data": {
      "text/plain": [
       "31.944199301744227"
      ]
     },
     "execution_count": 38,
     "metadata": {},
     "output_type": "execute_result"
    }
   ],
   "source": [
    "np.quantile(ST_SNR,0.15)"
   ]
  },
  {
   "cell_type": "code",
   "execution_count": 39,
   "metadata": {},
   "outputs": [
    {
     "data": {
      "text/plain": [
       "33.07057035789417"
      ]
     },
     "execution_count": 39,
     "metadata": {},
     "output_type": "execute_result"
    }
   ],
   "source": [
    "np.quantile(ST_SNR,0.25)"
   ]
  },
  {
   "cell_type": "code",
   "execution_count": 40,
   "metadata": {},
   "outputs": [
    {
     "data": {
      "text/plain": [
       "34.2619000924351"
      ]
     },
     "execution_count": 40,
     "metadata": {},
     "output_type": "execute_result"
    }
   ],
   "source": [
    "np.quantile(ST_SNR,0.5)"
   ]
  },
  {
   "cell_type": "code",
   "execution_count": 41,
   "metadata": {},
   "outputs": [
    {
     "data": {
      "text/plain": [
       "34.30947575255681"
      ]
     },
     "execution_count": 41,
     "metadata": {},
     "output_type": "execute_result"
    }
   ],
   "source": [
    "np.quantile(ST_SNR,0.75)"
   ]
  },
  {
   "cell_type": "code",
   "execution_count": 42,
   "metadata": {},
   "outputs": [
    {
     "data": {
      "text/plain": [
       "34.329977193983346"
      ]
     },
     "execution_count": 42,
     "metadata": {},
     "output_type": "execute_result"
    }
   ],
   "source": [
    "np.quantile(ST_SNR,0.95)"
   ]
  },
  {
   "cell_type": "code",
   "execution_count": 43,
   "metadata": {},
   "outputs": [
    {
     "data": {
      "text/plain": [
       "34.36554785685463"
      ]
     },
     "execution_count": 43,
     "metadata": {},
     "output_type": "execute_result"
    }
   ],
   "source": [
    "np.max(ST_SNR)"
   ]
  },
  {
   "cell_type": "code",
   "execution_count": 66,
   "metadata": {},
   "outputs": [],
   "source": [
    "totalSNR = np.concatenate((BVP_SNR,EDA_SNR,ST_SNR),axis=0)"
   ]
  },
  {
   "cell_type": "code",
   "execution_count": 67,
   "metadata": {},
   "outputs": [
    {
     "data": {
      "text/plain": [
       "32.747728096800884"
      ]
     },
     "execution_count": 67,
     "metadata": {},
     "output_type": "execute_result"
    }
   ],
   "source": [
    "np.mean(totalSNR)"
   ]
  },
  {
   "cell_type": "code",
   "execution_count": 68,
   "metadata": {},
   "outputs": [
    {
     "data": {
      "text/plain": [
       "2.2639820599749854"
      ]
     },
     "execution_count": 68,
     "metadata": {},
     "output_type": "execute_result"
    }
   ],
   "source": [
    "np.std(totalSNR)"
   ]
  }
 ],
 "metadata": {
  "kernelspec": {
   "display_name": "Python 3.9.13 64-bit (windows store)",
   "language": "python",
   "name": "python3"
  },
  "language_info": {
   "codemirror_mode": {
    "name": "ipython",
    "version": 3
   },
   "file_extension": ".py",
   "mimetype": "text/x-python",
   "name": "python",
   "nbconvert_exporter": "python",
   "pygments_lexer": "ipython3",
   "version": "3.9.13"
  },
  "orig_nbformat": 4,
  "vscode": {
   "interpreter": {
    "hash": "9f5f6c50d4b773fd401d31d3ca3c163d3006881028fcc05c9ea267ec8b2bad18"
   }
  }
 },
 "nbformat": 4,
 "nbformat_minor": 2
}
